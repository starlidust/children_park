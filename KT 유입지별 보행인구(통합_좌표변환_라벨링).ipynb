{
 "cells": [
  {
   "cell_type": "code",
   "execution_count": null,
   "metadata": {},
   "outputs": [],
   "source": [
    "import numpy as np\n",
    "import pandas as pd\n",
    "import matplotlib.pyplot as plt\n",
    "import seaborn as sns\n",
    "import folium \n",
    "import dask.dataframe as dd\n",
    "from dask.diagnostics import ProgressBar\n",
    "from glob import glob\n",
    "import os\n",
    "pbar = ProgressBar()\n",
    "pbar.register()\n",
    "\n",
    "from tqdm import tqdm_notebook as tqdm\n",
    "import geopandas as gpd"
   ]
  },
  {
   "cell_type": "markdown",
   "metadata": {},
   "source": [
    "### 좌표계 변환"
   ]
  },
  {
   "cell_type": "code",
   "execution_count": null,
   "metadata": {},
   "outputs": [],
   "source": [
    "from pyproj import Proj, transform\n",
    "proj_EPSG_5186 = Proj(init = 'epsg:5186')\n",
    "# proj_WGS84 = Proj(init = 'epsg:4326')\n",
    "proj_EPSG_5179 = Proj(init = 'epsg:5179')\n",
    "\n",
    "def transform_axis(df):\n",
    "    return pd.Series(transform(proj_EPSG_5186, proj_EPSG_5179,df['X_AXIS'],df['Y_AXIS']),index = ['X','Y'])\n"
   ]
  },
  {
   "cell_type": "code",
   "execution_count": null,
   "metadata": {},
   "outputs": [],
   "source": [
    "def change_axis(path):\n",
    "    '''\n",
    "    결측제거후 좌표변환하여 저장 \n",
    "    '''\n",
    "    file_name = path.split(\"\\\\\")[1]\n",
    "    \n",
    "    sample = pd.read_csv(path)\n",
    "    sample = sample[(sample.WEEKDAY != '\\\\N')&(sample.WEEKEND != '\\\\N')]\n",
    "    \n",
    "    only_axis = sample[['X_AXIS','Y_AXIS']].drop_duplicates()\n",
    "    only_axis[['new_X','new_y']] = only_axis.apply(transform_axis,axis=1)\n",
    "    \n",
    "    sample_new = pd.merge(sample,only_axis,on = ['X_AXIS','Y_AXIS'], how = 'left')\n",
    "    sample_new.drop(['X_AXIS','Y_AXIS'],axis = 1, inplace = True)\n",
    "    #저장\n",
    "    sample_new.to_csv('./data/KT 데이터/resi(new)'+\"/5179_\"+file_name,index= False)"
   ]
  },
  {
   "cell_type": "code",
   "execution_count": null,
   "metadata": {},
   "outputs": [],
   "source": [
    "paths = glob('./data/KT 데이터/resi/*.csv')"
   ]
  },
  {
   "cell_type": "code",
   "execution_count": null,
   "metadata": {},
   "outputs": [],
   "source": [
    "for path in tqdm(paths):\n",
    "    change_axis(path)"
   ]
  },
  {
   "cell_type": "code",
   "execution_count": null,
   "metadata": {},
   "outputs": [],
   "source": [
    "paths = glob(f'./data/KT 데이터/resi(new)/{year}/*.csv')"
   ]
  },
  {
   "cell_type": "code",
   "execution_count": null,
   "metadata": {},
   "outputs": [],
   "source": [
    "#통합파일 생성\n",
    "for year in tqdm([2016,2017]):\n",
    "    total_df = pd.DataFrame()\n",
    "    paths = glob(f'./data/KT 데이터/resi(new)/{year}/*.csv')\n",
    "    for path in tqdm(paths):\n",
    "        sample = pd.read_csv(path)\n",
    "        total_df = pd.concat([total_df,sample])\n",
    "    total_df.to_csv(f'./data/KT 데이터/{year}_resi통합.csv')"
   ]
  },
  {
   "cell_type": "code",
   "execution_count": null,
   "metadata": {},
   "outputs": [],
   "source": [
    "%%time\n",
    "resi_2016 = pd.read_csv('./data/KT 데이터/2016_resi통합.csv')\n",
    "resi_2017 = pd.read_csv('./data/KT 데이터/2017_resi통합.csv')"
   ]
  },
  {
   "cell_type": "code",
   "execution_count": null,
   "metadata": {},
   "outputs": [],
   "source": [
    "def near_park(df):\n",
    "    '''범위내 축소 \n",
    "    \n",
    "    '''\n",
    "    # 대공원주변 범위\n",
    "    ymin,ymax = 1949300, 1951100\n",
    "    xmin,xmax = 962000, 964100\n",
    "    \n",
    "    target = df[(df.new_X >= xmin)&(df.new_X <= xmax)]\n",
    "    target = target[(target.new_y >= ymin)&(target.new_y <= ymax)]\n",
    "    \n",
    "    #건대상권 제외\n",
    "    gun_x, gun_y = 962250, 1949600\n",
    "    target = target[~((target.new_X <= gun_x)&((target.new_y <= gun_y)))]\n",
    "    \n",
    "    return target"
   ]
  },
  {
   "cell_type": "code",
   "execution_count": null,
   "metadata": {
    "scrolled": true
   },
   "outputs": [],
   "source": [
    "%%time\n",
    "resi_2016_np = near_park(resi_2016.iloc[:,1:])\n",
    "resi_2017_np = near_park(resi_2017.iloc[:,1:])"
   ]
  },
  {
   "cell_type": "code",
   "execution_count": null,
   "metadata": {},
   "outputs": [],
   "source": [
    "resi_2016_np.shape,resi_2016.shape"
   ]
  },
  {
   "cell_type": "code",
   "execution_count": null,
   "metadata": {},
   "outputs": [],
   "source": [
    "#11개 구역 클러스터링 한 내역\n",
    "label_line = gpd.read_file('E:/python/data/신한카드데이터/라벨별_명칭_geo값.shp')"
   ]
  },
  {
   "cell_type": "code",
   "execution_count": null,
   "metadata": {},
   "outputs": [],
   "source": [
    "label_line.plot(color= 'w',edgecolor = 'black')\n",
    "dd = resi_2016_np[['new_X','new_y']].drop_duplicates()\n",
    "plt.scatter(x = \"new_X\",y = 'new_y',data= dd,alpha = 0.3)"
   ]
  },
  {
   "cell_type": "code",
   "execution_count": null,
   "metadata": {},
   "outputs": [],
   "source": [
    "def add_label(df):\n",
    "    '''\n",
    "    라벨 추가\n",
    "    '''\n",
    "    label_line = gpd.read_file('E:/python/data/신한카드데이터/라벨별_명칭_geo값.shp')\n",
    "    from shapely.geometry import Point, Polygon\n",
    "    \n",
    "    #라벨딕셔너리 생성\n",
    "    label_dict = label_line.set_index('names')\n",
    "    del label_dict['labels']\n",
    "    label_dict = label_dict.to_dict()['geometry']\n",
    "    \n",
    "    # 중복제거하고 확인\n",
    "    origin_axis = df[['new_X','new_y']].drop_duplicates()\n",
    "    \n",
    "    #라벨링\n",
    "    label_names =[]\n",
    "    for i in range(0,len(origin_axis)):\n",
    "        label = np.nan\n",
    "        for key in label_dict:\n",
    "            check_point = Point(origin_axis['new_X'].iloc[i],origin_axis['new_y'].iloc[i])\n",
    "            if label_dict[key].contains(check_point):\n",
    "                label = key\n",
    "        label_names.append(label)  \n",
    "    origin_axis['label'] = label_names\n",
    "    \n",
    "    #매칭안되는 부분 제외(범위밖)\n",
    "    origin_axis = origin_axis[~origin_axis.label.isna()]\n",
    "\n",
    "    label_df = pd.merge(df, origin_axis, how = 'left', on = ['new_X','new_y'])\n",
    "    label_df = label_df.dropna()\n",
    "    return label_df "
   ]
  },
  {
   "cell_type": "code",
   "execution_count": null,
   "metadata": {},
   "outputs": [],
   "source": [
    "%%time\n",
    "resi_2016_l = add_label(resi_2016_np)\n",
    "resi_2017_l = add_label(resi_2017_np)"
   ]
  },
  {
   "cell_type": "code",
   "execution_count": null,
   "metadata": {},
   "outputs": [],
   "source": [
    "def comefrom_rate_b(df):\n",
    "    year = str(df['YYYYMM'].iloc[0])[:4]\n",
    "    #저장위치\n",
    "    path = './output/KT/유입지비율'\n",
    "    os.makedirs(path,exist_ok = True)\n",
    "    #전체로 확인\n",
    "    full_df = df.groupby(['label','FROM_ID'])['WEEKDAY','WEEKEND'].sum().reset_index()\n",
    "    #행정동 디코드\n",
    "    full_df.FROM_ID = full_df.FROM_ID.apply(lambda x: int(str(x).split('.')[0].ljust(8,'0')))\n",
    "    full_df_m = pd.merge(full_df,n_h_dong, how = 'left', left_on = 'FROM_ID', right_on = 'dong_code')\n",
    "\n",
    "    for label in full_df_m.label.unique():\n",
    "        sample = full_df_m[full_df_m.label == label]\n",
    "        for c in ['WEEKDAY','WEEKEND']:\n",
    "            sample_part = sample.set_index('address')[c]\n",
    "            sample_part = round((sample_part/sample_part.sum())*100,2).sort_values(ascending= False)\n",
    "            sample_part.to_csv(f'{path}/{year}_{label}_{c}에 따른 유입지비율.csv',encoding = 'cp949')"
   ]
  },
  {
   "cell_type": "code",
   "execution_count": null,
   "metadata": {},
   "outputs": [],
   "source": [
    "comefrom_rate_b(resi_2016_l)\n",
    "comefrom_rate_b(resi_2017_l)"
   ]
  }
 ],
 "metadata": {
  "kernelspec": {
   "display_name": "Python 3",
   "language": "python",
   "name": "python3"
  },
  "language_info": {
   "codemirror_mode": {
    "name": "ipython",
    "version": 3
   },
   "file_extension": ".py",
   "mimetype": "text/x-python",
   "name": "python",
   "nbconvert_exporter": "python",
   "pygments_lexer": "ipython3",
   "version": "3.6.5"
  },
  "toc": {
   "base_numbering": 1,
   "nav_menu": {},
   "number_sections": true,
   "sideBar": true,
   "skip_h1_title": false,
   "title_cell": "Table of Contents",
   "title_sidebar": "Contents",
   "toc_cell": false,
   "toc_position": {},
   "toc_section_display": true,
   "toc_window_display": false
  },
  "varInspector": {
   "cols": {
    "lenName": 16,
    "lenType": 16,
    "lenVar": 40
   },
   "kernels_config": {
    "python": {
     "delete_cmd_postfix": "",
     "delete_cmd_prefix": "del ",
     "library": "var_list.py",
     "varRefreshCmd": "print(var_dic_list())"
    },
    "r": {
     "delete_cmd_postfix": ") ",
     "delete_cmd_prefix": "rm(",
     "library": "var_list.r",
     "varRefreshCmd": "cat(var_dic_list()) "
    }
   },
   "types_to_exclude": [
    "module",
    "function",
    "builtin_function_or_method",
    "instance",
    "_Feature"
   ],
   "window_display": false
  }
 },
 "nbformat": 4,
 "nbformat_minor": 2
}
