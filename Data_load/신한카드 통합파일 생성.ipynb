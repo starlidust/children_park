{
 "cells": [
  {
   "cell_type": "code",
   "execution_count": 1,
   "metadata": {},
   "outputs": [],
   "source": [
    "import numpy as np\n",
    "import pandas as pd\n",
    "import matplotlib.pyplot as plt\n",
    "import seaborn as sns\n",
    "import folium \n",
    "import dask.dataframe as dd\n",
    "from dask.diagnostics import ProgressBar\n",
    "from glob import glob\n",
    "import os\n",
    "pbar = ProgressBar()\n",
    "pbar.register()\n",
    "\n",
    "from tqdm import tqdm_notebook as tqdm"
   ]
  },
  {
   "cell_type": "markdown",
   "metadata": {},
   "source": [
    "### 코드집"
   ]
  },
  {
   "cell_type": "code",
   "execution_count": 7,
   "metadata": {},
   "outputs": [],
   "source": [
    "#code위치\n",
    "path1 = 'E:/python/data/041. 서울시 15-17년 업종별 내외국인 신한카드 매출데이터/2. 파일데이터/'"
   ]
  },
  {
   "cell_type": "code",
   "execution_count": 8,
   "metadata": {},
   "outputs": [],
   "source": [
    "job_code_df = pd.read_csv(path1 +'신한카드_내국인_업종코드.csv', engine = 'python')\n",
    "from_df = pd.read_csv(path1 +'신한카드_내국인_유입지코드.csv', engine = 'python')\n",
    "dong_df = pd.read_csv(path1 + '신한카드_행정동코드.csv',engine = 'python')"
   ]
  },
  {
   "cell_type": "markdown",
   "metadata": {},
   "source": [
    "### 행정동코드\n",
    "광진구에 해당하는 코드값만 가져옴"
   ]
  },
  {
   "cell_type": "code",
   "execution_count": 27,
   "metadata": {},
   "outputs": [],
   "source": [
    "gwangjin_df = dong_df[dong_df.M_GU_NM == '광진구']\n",
    "gwangjin_code = gwangjin_df.M_DONG_CD.values"
   ]
  },
  {
   "cell_type": "markdown",
   "metadata": {},
   "source": [
    "### data load 2015~2017\n",
    "2015의 경우 12월 데이터만 있음으로 pass  \n",
    "2016,2017년을 각각 실행하여 통합파일생성"
   ]
  },
  {
   "cell_type": "code",
   "execution_count": 51,
   "metadata": {},
   "outputs": [
    {
     "data": {
      "application/vnd.jupyter.widget-view+json": {
       "model_id": "ba5065873e8847309ce88861cf0a0ea3",
       "version_major": 2,
       "version_minor": 0
      },
      "text/plain": [
       "HBox(children=(IntProgress(value=0, max=11), HTML(value='')))"
      ]
     },
     "metadata": {},
     "output_type": "display_data"
    }
   ],
   "source": [
    "%%time\n",
    "folder_1 = '내국인 유입지별/'\n",
    "year_f = '2017/'\n",
    "paths = glob(path1 +folder_1+year_f+\"/*.csv\")\n",
    "\n",
    "f = folder_1.replace('/','')\n",
    "y = year_f.replace('/','')\n",
    "fin_df = pd.DataFrame()\n",
    "for path in tqdm(paths):\n",
    "    sample = pd.read_csv(path)\n",
    "    part_gwang = sample[sample.M_DONG_CD.isin(gwangjin_code)]\n",
    "    fin_df = pd.concat([fin_df, part_gwang])\n",
    "\n",
    "fin_df.to_csv(f'E:/python/data/신한카드데이터/{f}_{y}년_신한_종합.csv')"
   ]
  },
  {
   "cell_type": "code",
   "execution_count": null,
   "metadata": {},
   "outputs": [],
   "source": []
  }
 ],
 "metadata": {
  "kernelspec": {
   "display_name": "Python 3",
   "language": "python",
   "name": "python3"
  },
  "language_info": {
   "codemirror_mode": {
    "name": "ipython",
    "version": 3
   },
   "file_extension": ".py",
   "mimetype": "text/x-python",
   "name": "python",
   "nbconvert_exporter": "python",
   "pygments_lexer": "ipython3",
   "version": "3.7.3"
  }
 },
 "nbformat": 4,
 "nbformat_minor": 2
}
