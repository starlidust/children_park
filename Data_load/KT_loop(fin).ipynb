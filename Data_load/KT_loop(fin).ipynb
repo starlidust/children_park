{
 "cells": [
  {
   "cell_type": "code",
   "execution_count": null,
   "metadata": {},
   "outputs": [],
   "source": [
    "import numpy as np\n",
    "import pandas as pd\n",
    "import matplotlib.pyplot as plt\n",
    "import seaborn as sns\n",
    "import folium \n",
    "import dask.dataframe as dd\n",
    "from dask.diagnostics import ProgressBar\n",
    "from glob import glob\n",
    "import os\n",
    "pbar = ProgressBar()\n",
    "pbar.register()\n",
    "\n",
    "from tqdm import tqdm_notebook as tqdm"
   ]
  },
  {
   "cell_type": "markdown",
   "metadata": {},
   "source": [
    "### 행정동"
   ]
  },
  {
   "cell_type": "code",
   "execution_count": null,
   "metadata": {
    "scrolled": true
   },
   "outputs": [],
   "source": [
    "hdong_df = pd.read_csv('./data/행정구역분류와 행정기관 및 법정동코드 연계표(2018.4.1.기준).csv',encoding= 'cp949')\n",
    "hdong_df = hdong_df.iloc[:,:10]\n",
    "gwangjin = hdong_df.loc[hdong_df.시군구 == '광진구']\n",
    "\n",
    "# #임시저장\n",
    "# gwangjin.to_csv('./data/광진구_행정동코드.csv',index= False, encoding = 'cp949')\n",
    "\n",
    "#8자리 행정동 코드로 변경\n",
    "gwangjin_dong =gwangjin['행정기관코드(행정안전부 행정동코드)'].apply(lambda x : int(str(x)[:-2])).values"
   ]
  },
  {
   "cell_type": "markdown",
   "metadata": {},
   "source": [
    "### loop 구현"
   ]
  },
  {
   "cell_type": "code",
   "execution_count": null,
   "metadata": {},
   "outputs": [],
   "source": [
    "path = 'F:/data/'\n",
    "first_folders = os.listdir(path)"
   ]
  },
  {
   "cell_type": "code",
   "execution_count": null,
   "metadata": {},
   "outputs": [],
   "source": [
    "%%time\n",
    "#예상소요시간 개당 10분 -> 12개 약 120분 \n",
    "#utf-8에러 뜨면, isin에 연산하는 값의 데이터타입이 동일한지 확인할것. 빈값이여서 오류날수 있음\n",
    "for folder in tqdm(first_folders[:-1]):\n",
    "    globs = glob(path + folder+'/*.csv')\n",
    "    #resi만\n",
    "    for g in globs[:1]:\n",
    "        filename = g.split('\\\\')[1].split('.')[0]\n",
    "        pre = filename.split('_')[0]\n",
    "        if pre == 'resi':\n",
    "            resi_df = dd.read_csv(g,sep =',',assume_missing=True,\n",
    "                                 names = ['ID','X_AXIS',\"Y_AXIS\",\"SEX\",\"AGE\",\"WEEKDAY\",\"WEEKEND\",\"FROM_ID\",'DONG_ID','YYYYMM'],\n",
    "                                 header= None)\n",
    "            resi_kt_gwangjin = resi_df.loc[resi_df.DONG_ID.isin(gwangjin_dong)].compute(scheuler = 'processes', num_worker = 16)\n",
    "            os.makedirs('E:/python/data/KT 데이터1/', exist_ok=True)\n",
    "            resi_kt_gwangjin.to_csv(f'E:/python/data/KT 데이터1/{filename}.csv',index = False)"
   ]
  },
  {
   "cell_type": "markdown",
   "metadata": {},
   "source": [
    "### 데이터가 이상하다?? 201705 전용\n",
    "tail이 안됨.. 뭐야 -> 파일깨졌었음..?? 201705만 이상함  \n",
    "ㅁ과 같은 이상한 문자가 들어가 있음 -> dtype 지정 및 encoding 방식 바꿔서 해결"
   ]
  },
  {
   "cell_type": "code",
   "execution_count": null,
   "metadata": {},
   "outputs": [],
   "source": [
    "resi_df = dd.read_csv('F:/data/201705/resi_201705.csv',sep =',',assume_missing=True,\n",
    "                     names = ['ID','X_AXIS',\"Y_AXIS\",\"SEX\",\"AGE\",\"WEEKDAY\",\"WEEKEND\",\"FROM_ID\",'DONG_ID','YYYYMM'],\n",
    "                     header= None ,encoding = 'latin1',\n",
    "                     dtype = {'ID': str})\n",
    "resi_kt_gwangjin = resi_df.loc[resi_df.DONG_ID.isin(gwangjin_dong)].compute(scheuler = 'processes', num_worker = 16)\n",
    "os.makedirs('E:/python/data/KT 데이터1/', exist_ok=True)\n",
    "resi_kt_gwangjin.to_csv(f'E:/python/data/KT 데이터1/{filename}.csv',index = False)"
   ]
  },
  {
   "cell_type": "code",
   "execution_count": null,
   "metadata": {},
   "outputs": [],
   "source": [
    "%%time\n",
    "#wlk만 개당 약 2분 약 30분 소요 \n",
    "for folder in tqdm(first_folders):\n",
    "    globs = glob(path + folder+'/*.csv')\n",
    "    for g in globs[1:]:\n",
    "        filename = g.split('\\\\')[1].split('.')[0]\n",
    "        wlk_df = dd.read_csv(g,sep =',',assume_missing=True,\n",
    "                 names = all_names,\n",
    "                 header= None)\n",
    "        walk_kt_gwangjin = wlk_df.loc[wlk_df.DONG_ID.isin(gwangjin_dong)].compute(scheuler = 'processes', num_worker = 16)\n",
    "        os.makedirs('E:/python/data/KT 데이터/', exist_ok=True)\n",
    "        walk_kt_gwangjin.to_csv(f'E:/python/data/KT 데이터/{filename}.csv',index = False)\n"
   ]
  },
  {
   "cell_type": "code",
   "execution_count": null,
   "metadata": {},
   "outputs": [],
   "source": []
  }
 ],
 "metadata": {
  "kernelspec": {
   "display_name": "Python 3",
   "language": "python",
   "name": "python3"
  },
  "language_info": {
   "codemirror_mode": {
    "name": "ipython",
    "version": 3
   },
   "file_extension": ".py",
   "mimetype": "text/x-python",
   "name": "python",
   "nbconvert_exporter": "python",
   "pygments_lexer": "ipython3",
   "version": "3.7.3"
  }
 },
 "nbformat": 4,
 "nbformat_minor": 2
}
