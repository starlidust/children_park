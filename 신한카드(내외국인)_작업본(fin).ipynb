{
 "cells": [
  {
   "cell_type": "markdown",
   "metadata": {},
   "source": [
    "### 진행방향\n",
    "집계구 코드를 불러와서 지도위에 ploting  \n",
    "데이터를 병합하는 방안을 고려해볼것\n",
    "예상) 업종별, 연령별 - 이용건수 및 이용금액"
   ]
  },
  {
   "cell_type": "code",
   "execution_count": null,
   "metadata": {},
   "outputs": [],
   "source": [
    "import numpy as np\n",
    "import pandas as pd\n",
    "import matplotlib.pyplot as plt\n",
    "import seaborn as sns\n",
    "import folium \n",
    "import dask.dataframe as dd\n",
    "from dask.diagnostics import ProgressBar\n",
    "from glob import glob\n",
    "import os\n",
    "pbar = ProgressBar()\n",
    "pbar.register()\n",
    "\n",
    "from tqdm import tqdm_notebook as tqdm\n",
    "import geopandas as gpd\n",
    "\n",
    "#한글깨짐 방지\n",
    "plt.rc('font', family = 'Malgun Gothic')\n",
    "plt.rcParams['axes.unicode_minus'] = False"
   ]
  },
  {
   "cell_type": "markdown",
   "metadata": {},
   "source": [
    "### data load\n",
    "통합파일 저장시, index = False조건을 안해놈.. 나중 수정.."
   ]
  },
  {
   "cell_type": "code",
   "execution_count": null,
   "metadata": {},
   "outputs": [],
   "source": [
    "s_2017 = pd.read_csv('E:/python/data/신한카드데이터/내국인 성별연령별_2017년_신한_종합.csv').iloc[:,1:]\n",
    "gu = gpd.read_file('E:/python/data/1. 공통참조파일/1. 지역경계 shp파일/통계청/2016년/서울시(집계구)_EPSG_5179.shp',\n",
    "                  encoding = 'cp949')"
   ]
  },
  {
   "cell_type": "markdown",
   "metadata": {},
   "source": [
    "#### geopandas 시각화 확인"
   ]
  },
  {
   "cell_type": "code",
   "execution_count": null,
   "metadata": {},
   "outputs": [],
   "source": [
    "gu.plot(column = 'ADM_NM')"
   ]
  },
  {
   "cell_type": "markdown",
   "metadata": {},
   "source": [
    "### 2017년 월별 시간대별로 군집\n",
    "* 특히 t3시간대(12~17:59)로 확인"
   ]
  },
  {
   "cell_type": "code",
   "execution_count": null,
   "metadata": {},
   "outputs": [],
   "source": [
    "grouped_year_time = s_2017.groupby(['BLOCK_ID','TS_YM','TM'])['USECT_CORR','AMT_CORR'].sum().reset_index()"
   ]
  },
  {
   "cell_type": "markdown",
   "metadata": {},
   "source": [
    "### 집계구 광진구만 발라내기"
   ]
  },
  {
   "cell_type": "code",
   "execution_count": null,
   "metadata": {},
   "outputs": [],
   "source": [
    "gwang_code = pd.read_csv('./data/광진구_행정동코드.csv',encoding = 'cp949')"
   ]
  },
  {
   "cell_type": "code",
   "execution_count": null,
   "metadata": {},
   "outputs": [],
   "source": [
    "gwangjin_dong = gwang_code['행정동'].values"
   ]
  },
  {
   "cell_type": "code",
   "execution_count": null,
   "metadata": {
    "scrolled": true
   },
   "outputs": [],
   "source": [
    "gwangjin_gu = gu[gu.ADM_NM.isin(gwangjin_dong)]"
   ]
  },
  {
   "cell_type": "code",
   "execution_count": null,
   "metadata": {},
   "outputs": [],
   "source": [
    "# 각 집계구의 중심점 확인\n",
    "gwangjin_gu['center_point'] = gwangjin_gu.geometry.apply(lambda x : x.centroid)"
   ]
  },
  {
   "cell_type": "markdown",
   "metadata": {},
   "source": [
    "### 데이터결합"
   ]
  },
  {
   "cell_type": "code",
   "execution_count": null,
   "metadata": {},
   "outputs": [],
   "source": [
    "#타입이 다르므로 통일\n",
    "s_2017.BLOCK_ID = s_2017.BLOCK_ID.astype(str)\n",
    "s_2017.M_DONG_CD = s_2017.M_DONG_CD.astype(str)"
   ]
  },
  {
   "cell_type": "code",
   "execution_count": null,
   "metadata": {},
   "outputs": [],
   "source": [
    "merged = gwangjin_gu.merge(grouped_year_time, how = 'outer',left_on = 'TOT_REG_CD',right_on = 'BLOCK_ID')"
   ]
  },
  {
   "cell_type": "markdown",
   "metadata": {},
   "source": [
    "#### 각 집계구의 중심점 "
   ]
  },
  {
   "cell_type": "code",
   "execution_count": null,
   "metadata": {},
   "outputs": [],
   "source": [
    "merged['center_x'] = merged.center_point.apply(lambda point : point.x)\n",
    "merged['center_y'] = merged.center_point.apply(lambda point : point.y)"
   ]
  },
  {
   "cell_type": "markdown",
   "metadata": {},
   "source": [
    "### sample시각화\n",
    "#샘플로 17년 1월 t3시간의 값만 가져옴"
   ]
  },
  {
   "cell_type": "code",
   "execution_count": null,
   "metadata": {},
   "outputs": [],
   "source": [
    "sample = merged.loc[(merged.TS_YM == 201701)&(merged.TM == 't3')]"
   ]
  },
  {
   "cell_type": "markdown",
   "metadata": {},
   "source": [
    "### 지도시각화\n",
    "* 누적값으로 구하다보니 집중되는 지역에 편차가 심함.  \n",
    "-> 비율또한 의미 없음. 상위 5개 구간을 제외하고 그림 그려보기 "
   ]
  },
  {
   "cell_type": "code",
   "execution_count": null,
   "metadata": {
    "scrolled": true
   },
   "outputs": [],
   "source": [
    "#수치를 다가져가는 동네를 제외하고 작업해야할것으로 추정\n",
    "fig,ax = plt.subplots(1,1,figsize = (15,15))\n",
    "sample.plot(column = 'AMT_CORR',ax = ax, legend = True,edgecolor = 'black',cmap = 'OrRd')\n",
    "plt.scatter(x = 'center_x',y = 'center_y',data= sample,s = 10, color = 'b')\n",
    "plt.title('집계구별 t3(12~17:59)사이 이용금액',size= 15)\n",
    "plt.axis('off')\n",
    "plt.show()"
   ]
  },
  {
   "cell_type": "code",
   "execution_count": null,
   "metadata": {},
   "outputs": [],
   "source": [
    "#상위 5개 지역 결측처리후 진행\n",
    "sample1 = sample.sort_values('AMT_CORR',ascending = False)\n",
    "sample1.iloc[:6]['AMT_CORR'] = np.nan\n",
    "fig,ax = plt.subplots(1,1,figsize = (15,15))\n",
    "sample1.plot(column = 'AMT_CORR',ax = ax, legend = True,\n",
    "                       edgecolor = 'black',cmap = 'OrRd',\n",
    "                      missing_kwds= {\n",
    "                          \"color\": \"lightgray\",\n",
    "                          \"edgecolor\": \"red\",\n",
    "                          \"hatch\": \"///\",\n",
    "                      })\n",
    "plt.scatter(x = 'center_x',y = 'center_y',data= sample,s = 10, color = 'b')\n",
    "plt.title('집계구별 t3(12~17:59)사이 이용금액',size= 15)\n",
    "# plt.axis('off')\n",
    "plt.show()"
   ]
  },
  {
   "cell_type": "markdown",
   "metadata": {},
   "source": [
    "### 특정 지역만 확인\n",
    "상권분석 서비스의 상권데이터로 특정위치 확인"
   ]
  },
  {
   "cell_type": "code",
   "execution_count": null,
   "metadata": {},
   "outputs": [],
   "source": [
    "sangkwon = gpd.read_file('E:/python/data/상권분석서비스/서울시_우리마을가게_상권분석서비스(상권영역)/TBGIS_TRDAR_RELM.shp')\n",
    "sangkwon = sangkwon.to_crs(5179) #좌표값변환\n",
    "gwangjin_sangkwon = sangkwon[sangkwon.SIGNGU_CD == '11215']"
   ]
  },
  {
   "cell_type": "code",
   "execution_count": null,
   "metadata": {},
   "outputs": [],
   "source": [
    "#주변 주요 상권명\n",
    "near_sangkwon = ['어린이대공원역','능동로19길','광나루로24길',\n",
    " '광나루로36길','광나루로37길','광나루로 40길','광나루로 26길',\n",
    " '자양로50길','천호대교129길','자양로45길','자양로53길','천호대교123길',\n",
    " '능동로34길','서울 광진구 군자역','용마산로3길','천호대교3길']"
   ]
  },
  {
   "cell_type": "code",
   "execution_count": null,
   "metadata": {},
   "outputs": [],
   "source": [
    "fig,ax = plt.subplots(1,1,figsize = (15,15))\n",
    "sample.plot(ax = ax,edgecolor = 'black',color = 'w')\n",
    "gwangjin_sangkwon.plot(column = 'TRDAR_CD_N', ax = ax, legend = True)\n",
    "plt.scatter(x = 'center_x',y = 'center_y',data= sample,s = 10, color = 'red')\n",
    "plt.title('상권지역위의 포인트',size= 15)\n",
    "plt.axis('off')\n",
    "plt.show()"
   ]
  },
  {
   "cell_type": "code",
   "execution_count": null,
   "metadata": {},
   "outputs": [],
   "source": [
    "#인근상권만\n",
    "near_park = gwangjin_sangkwon[gwangjin_sangkwon.TRDAR_CD_N.isin(near_sangkwon)]\n",
    "fig,ax = plt.subplots(1,1,figsize = (15,15))\n",
    "sample.plot(ax = ax,edgecolor = 'black',color = 'w')\n",
    "near_park.plot(column = 'TRDAR_CD_N', ax = ax, legend = True, cmap = 'tab20')\n",
    "plt.scatter(x = 'center_x',y = 'center_y',data= sample,s = 10, color = 'red')\n",
    "plt.title('상권지역위의 포인트',size= 15)\n",
    "plt.axhline(y = 1951100) #범위확인\n",
    "plt.axhline(y = 1949300) #범위확인\n",
    "plt.axvline(x = 962000)\n",
    "plt.axvline(x = 964000)\n",
    "plt.ylim((1949300,1951100))\n",
    "plt.xlim((962000,964000))\n",
    "# plt.axis('off')\n",
    "plt.show()"
   ]
  },
  {
   "cell_type": "code",
   "execution_count": null,
   "metadata": {},
   "outputs": [],
   "source": [
    "# 범위확인\n",
    "ymin,ymax = 1949300, 1951100\n",
    "xmin,xmax = 962000,964100"
   ]
  },
  {
   "cell_type": "code",
   "execution_count": null,
   "metadata": {},
   "outputs": [],
   "source": [
    "#인근상권만\n",
    "near_park = gwangjin_sangkwon[gwangjin_sangkwon.TRDAR_CD_N.isin(near_sangkwon)]\n",
    "fig,ax = plt.subplots(1,1,figsize = (15,15))\n",
    "sample.plot(column = 'AMT_CORR',ax = ax,edgecolor = 'black',cmap = 'OrRd')\n",
    "near_park.plot(column = 'TRDAR_CD_N', ax = ax, legend = True, cmap = 'tab20',alpha = 0.2)\n",
    "plt.scatter(x = 'center_x',y = 'center_y',data= sample,s = 10, color = 'red')\n",
    "plt.title('축소범위체크',size= 15)\n",
    "\n",
    "plt.axhline(y = ymin) \n",
    "plt.axhline(y = ymax) \n",
    "plt.axvline(x = xmin)\n",
    "plt.axvline(x = xmax)\n",
    "\n",
    "# plt.axis('off')\n",
    "plt.show()"
   ]
  },
  {
   "cell_type": "code",
   "execution_count": null,
   "metadata": {},
   "outputs": [],
   "source": [
    "sample[sample.BLOCK_ID.isna()]"
   ]
  },
  {
   "cell_type": "code",
   "execution_count": null,
   "metadata": {},
   "outputs": [],
   "source": [
    "#인근상권만\n",
    "near_park = gwangjin_sangkwon[gwangjin_sangkwon.TRDAR_CD_N.isin(near_sangkwon)]\n",
    "fig,ax = plt.subplots(1,1,figsize = (15,15))\n",
    "sample.plot(column = 'AMT_CORR',ax = ax,edgecolor = 'black',cmap = 'OrRd')\n",
    "near_park.plot(column = 'TRDAR_CD_N', ax = ax, legend = True, cmap = 'tab20',alpha = 0.2)\n",
    "plt.scatter(x = 'center_x',y = 'center_y',data= sample,s = 10, color = 'red')\n",
    "plt.title('지역축소',size= 15)\n",
    "\n",
    "plt.ylim((ymin,ymax))\n",
    "plt.xlim((xmin,xmax))\n",
    "# plt.axis('off')\n",
    "plt.show()"
   ]
  },
  {
   "cell_type": "markdown",
   "metadata": {},
   "source": [
    "### 축소한 범위내의 상권만 분석대상으로"
   ]
  },
  {
   "cell_type": "markdown",
   "metadata": {},
   "source": [
    "### 클러스터링 다시"
   ]
  },
  {
   "cell_type": "code",
   "execution_count": null,
   "metadata": {},
   "outputs": [],
   "source": [
    "## merge에 na있어서 다시 \n",
    "merged = merged[~(merged.BLOCK_ID.isna())]\n",
    "target = n_merged[(n_merged.center_x >= xmin)&(n_merged.center_x <= xmax)]\n",
    "target = n_target[(n_target.center_y >= ymin)&(n_target.center_y <= ymax)]"
   ]
  },
  {
   "cell_type": "code",
   "execution_count": null,
   "metadata": {},
   "outputs": [],
   "source": [
    "#인근상권만\n",
    "near_park = gwangjin_sangkwon[gwangjin_sangkwon.TRDAR_CD_N.isin(near_sangkwon)]\n",
    "fig,ax = plt.subplots(1,1,figsize = (15,15))\n",
    "target.plot(column = 'AMT_CORR',ax = ax,edgecolor = 'black',cmap = 'OrRd')\n",
    "near_park.plot(column = 'TRDAR_CD_N', ax = ax, legend = True, cmap = 'tab20',alpha = 0.5)\n",
    "plt.scatter(x = 'center_x',y = 'center_y',data= target,s = 10, color = 'red')\n",
    "plt.title('지역축소',size= 15)\n",
    "\n",
    "# plt.ylim((ymin,ymax))\n",
    "# plt.xlim((xmin,xmax))\n",
    "# plt.axis('off')\n",
    "plt.show()"
   ]
  },
  {
   "cell_type": "markdown",
   "metadata": {},
   "source": [
    "### kmeans로 클러스터링"
   ]
  },
  {
   "cell_type": "code",
   "execution_count": null,
   "metadata": {},
   "outputs": [],
   "source": [
    "from sklearn.cluster import KMeans\n",
    "\n",
    "center_points = target[['center_x','center_y']].drop_duplicates()\n",
    "kmeans = KMeans(n_clusters = 10).fit(center_points)\n",
    "center_points['labels'] = kmeans.labels_"
   ]
  },
  {
   "cell_type": "code",
   "execution_count": null,
   "metadata": {},
   "outputs": [],
   "source": [
    "#인근상권만\n",
    "near_park = gwangjin_sangkwon[gwangjin_sangkwon.TRDAR_CD_N.isin(near_sangkwon)]\n",
    "fig,ax = plt.subplots(1,1,figsize = (15,15))\n",
    "target.plot(column = 'AMT_CORR',ax = ax,edgecolor = 'black',cmap = 'OrRd')\n",
    "near_park.plot(column = 'TRDAR_CD_N', ax = ax,cmap = 'tab20',alpha = 0.5)\n",
    "plt.title('클러스터링',size= 15)\n",
    "sns.scatterplot(x = 'center_x',y = 'center_y',hue= 'labels',s = 80, \n",
    "                data = center_points, palette = 'Accent_r',legend = 'full')\n",
    "plt.yticks(fontsize = 15)\n",
    "plt.xticks(fontsize = 15)\n",
    "plt.show()"
   ]
  },
  {
   "cell_type": "markdown",
   "metadata": {},
   "source": [
    "### 특정 좌표 제외작업"
   ]
  },
  {
   "cell_type": "code",
   "execution_count": null,
   "metadata": {},
   "outputs": [],
   "source": [
    "#건대주변 상권제외작업"
   ]
  },
  {
   "cell_type": "code",
   "execution_count": null,
   "metadata": {},
   "outputs": [],
   "source": [
    "#인근상권만\n",
    "near_park = gwangjin_sangkwon[gwangjin_sangkwon.TRDAR_CD_N.isin(near_sangkwon)]\n",
    "fig,ax = plt.subplots(1,1,figsize = (15,15))\n",
    "target.plot(column = 'AMT_CORR',ax = ax,edgecolor = 'black',cmap = 'OrRd')\n",
    "# near_park.plot(column = 'TRDAR_CD_N', ax = ax,cmap = 'tab20',alpha = 0.5)\n",
    "plt.title('건대상권제외',size= 15)\n",
    "sns.scatterplot(x = 'center_x',y = 'center_y',hue= 'labels',s = 80, \n",
    "                data = center_points, palette = 'Accent_r',legend = 'full')\n",
    "plt.axhline(y = 1949600)\n",
    "plt.axvline(x = 962250)\n",
    "plt.yticks(fontsize = 15)\n",
    "plt.xticks(fontsize = 15)\n",
    "plt.show()"
   ]
  },
  {
   "cell_type": "code",
   "execution_count": null,
   "metadata": {},
   "outputs": [],
   "source": [
    "gun_x, gun_y = 962250, 1949600\n",
    "target_g = target[~((target.center_x <= gun_x)&((merged.center_y <= gun_y)))]"
   ]
  },
  {
   "cell_type": "code",
   "execution_count": null,
   "metadata": {},
   "outputs": [],
   "source": [
    "center_points_g = center_points[~((center_points.center_x <= gun_x)&((center_points.center_y <= gun_y)))]"
   ]
  },
  {
   "cell_type": "code",
   "execution_count": null,
   "metadata": {},
   "outputs": [],
   "source": [
    "#대공원 label은 별로도표기 99로 해둠\n",
    "center_points_g.loc[((center_points_g.center_x >= 962900)&(center_points_g.center_x <= 963100)&\n",
    "               (center_points_g.center_y >= 1950000)&(center_points_g.center_y <= 1950250)),'labels'] = 10"
   ]
  },
  {
   "cell_type": "code",
   "execution_count": null,
   "metadata": {},
   "outputs": [],
   "source": [
    "target_block = target[['BLOCK_ID','center_x','center_y']].drop_duplicates()\n",
    "center_points_g = pd.merge(center_points_g,target_block, on = ['center_x','center_y'],how = 'left')\n",
    "center_points_save = center_points_g[['BLOCK_ID','labels']]"
   ]
  },
  {
   "cell_type": "code",
   "execution_count": null,
   "metadata": {},
   "outputs": [],
   "source": [
    "# # #클러스터 저장\n",
    "# center_points_save.to_csv('./data/신한카드데이터/블럭별 클러스터라벨.csv',index= False)"
   ]
  },
  {
   "cell_type": "code",
   "execution_count": null,
   "metadata": {},
   "outputs": [],
   "source": [
    "#인근상권만\n",
    "near_park = gwangjin_sangkwon[gwangjin_sangkwon.TRDAR_CD_N.isin(near_sangkwon)]\n",
    "fig,ax = plt.subplots(1,1,figsize = (15,15))\n",
    "target_g.plot(column = 'AMT_CORR',ax = ax,edgecolor = 'black',cmap = 'OrRd')\n",
    "# near_park.plot(column = 'TRDAR_CD_N', ax = ax,cmap = 'tab20',alpha = 0.5)\n",
    "plt.title('지역축소',size= 15)\n",
    "sns.scatterplot(x = 'center_x',y = 'center_y',hue= 'labels',s = 80, \n",
    "                data = center_points_g, palette = 'gist_ncar',legend = 'full')\n",
    "plt.axis('off')\n",
    "plt.show()"
   ]
  },
  {
   "cell_type": "code",
   "execution_count": null,
   "metadata": {},
   "outputs": [],
   "source": [
    "target_g.BLOCK_ID.nunique()"
   ]
  },
  {
   "cell_type": "markdown",
   "metadata": {},
   "source": [
    "### 각 클러스터병합"
   ]
  },
  {
   "cell_type": "code",
   "execution_count": null,
   "metadata": {},
   "outputs": [],
   "source": [
    "from shapely.ops import cascaded_union"
   ]
  },
  {
   "cell_type": "code",
   "execution_count": null,
   "metadata": {},
   "outputs": [],
   "source": [
    "\n",
    "cluster_name = {}\n",
    "cluster_name[0] = \"구의문\"\n",
    "cluster_name[1] = \"세종대 뒤편\"\n",
    "cluster_name[2] = \"남문\"\n",
    "cluster_name[3] = \"후문\"\n",
    "cluster_name[4] = \"어린이대공원정문\"\n",
    "cluster_name[5] = \"군자역 뒤편\"\n",
    "cluster_name[6] = \"군자역\"\n",
    "cluster_name[7] = \"구의문 뒤편\"\n",
    "cluster_name[8] = \"후문뒤편\"\n",
    "cluster_name[9] = \"서문,북문\"\n",
    "cluster_name[10] = \"어린이대공원\"\n",
    "\n",
    "cluster_name_df = pd.DataFrame({'labels': list(cluster_name.keys()), 'names': list(cluster_name.values())})"
   ]
  },
  {
   "cell_type": "code",
   "execution_count": null,
   "metadata": {},
   "outputs": [],
   "source": [
    "cluster_name = {}\n",
    "cluster_name[0] = \"군자역 뒤편\"\n",
    "cluster_name[1] = \"어린이대공원정문\"\n",
    "cluster_name[2] = \"구의문 뒤편\"\n",
    "cluster_name[3] = \"세종대 뒤편\" \n",
    "cluster_name[4] = \"후문\"\n",
    "cluster_name[5] = \"후문뒤편\"\n",
    "cluster_name[6] = \"서문,북문\"\n",
    "cluster_name[7] = \"남문\"\n",
    "cluster_name[8] = \"구의문\"\n",
    "cluster_name[9] = \"군자역\"\n",
    "cluster_name[10] = \"어린이대공원\"\n",
    "\n",
    "cluster_name_df = pd.DataFrame({'labels': list(cluster_name.keys()), 'names': list(cluster_name.values())})"
   ]
  },
  {
   "cell_type": "code",
   "execution_count": null,
   "metadata": {},
   "outputs": [],
   "source": [
    "union_polygon = {}\n",
    "for label in near_data.labels.unique():\n",
    "    union_polygon[label] = cascaded_union(near_data[near_data.labels == label].geometry)\n",
    "\n",
    "geo_df = pd.DataFrame({'labels': list(union_polygon.keys()), 'geometry': list(union_polygon.values())})"
   ]
  },
  {
   "cell_type": "code",
   "execution_count": null,
   "metadata": {},
   "outputs": [],
   "source": [
    "geo_df = gpd.GeoDataFrame(pd.merge(cluster_name_df,geo_df))"
   ]
  },
  {
   "cell_type": "code",
   "execution_count": null,
   "metadata": {},
   "outputs": [],
   "source": [
    "geo_df.plot(column = 'names',edgecolor = 'black',cmap = 'tab20', figsize = (15,15),legend = True)"
   ]
  },
  {
   "cell_type": "code",
   "execution_count": null,
   "metadata": {},
   "outputs": [],
   "source": [
    "#저장\n",
    "geo_df.to_file('./data/신한카드데이터/라벨별_명칭_geo값.shp',encoding = 'cp949')"
   ]
  },
  {
   "cell_type": "code",
   "execution_count": null,
   "metadata": {},
   "outputs": [],
   "source": [
    "#주변상권데이터와 라벨링 결합\n",
    "near_data = pd.merge(merged,center_points_g,how = 'left', on = ['center_x','center_y'])\n",
    "near_data = near_data.dropna()"
   ]
  },
  {
   "cell_type": "code",
   "execution_count": null,
   "metadata": {},
   "outputs": [],
   "source": [
    "near_data = pd.merge(near_data,cluster_name_df)"
   ]
  },
  {
   "cell_type": "code",
   "execution_count": null,
   "metadata": {},
   "outputs": [],
   "source": [
    "near_data_gb = near_data.groupby(['names','TS_YM'])['USECT_CORR','AMT_CORR'].sum().reset_index()"
   ]
  },
  {
   "cell_type": "code",
   "execution_count": null,
   "metadata": {},
   "outputs": [],
   "source": [
    "plt.figure(figsize = (10,10))\n",
    "sns.lineplot(x = 'TS_YM', y= 'AMT_CORR', hue = 'names', data = near_data_gb, palette= 'tab20')\n",
    "plt.legend(loc = 'center left', bbox_to_anchor = (1,0.5),fontsize = 12)\n",
    "plt.title('주변상권의 월간추세',fontsize= 15)\n",
    "plt.yticks(fontsize = 15)\n",
    "plt.xticks(fontsize = 15)\n",
    "plt.tight_layout()\n",
    "plt.savefig('./output/신한카드/주변상권의 월간추세(2017).png')\n",
    "plt.show()"
   ]
  },
  {
   "cell_type": "markdown",
   "metadata": {},
   "source": [
    "### 지도시각화"
   ]
  },
  {
   "cell_type": "code",
   "execution_count": null,
   "metadata": {},
   "outputs": [],
   "source": [
    "near_data_gb = near_data.groupby(['labels','names'])['USECT_CORR','AMT_CORR'].sum().reset_index()"
   ]
  },
  {
   "cell_type": "code",
   "execution_count": null,
   "metadata": {},
   "outputs": [],
   "source": [
    "near_data_gb = pd.merge(near_data_gb,geo_df)"
   ]
  },
  {
   "cell_type": "code",
   "execution_count": null,
   "metadata": {},
   "outputs": [],
   "source": [
    "near_data_gpd = gpd.GeoDataFrame(near_data_gb)"
   ]
  },
  {
   "cell_type": "code",
   "execution_count": null,
   "metadata": {},
   "outputs": [],
   "source": [
    "#2017 군자역부근과 정문부근이 매출이 높음 \n",
    "fig,ax = plt.subplots(1,1,figsize = (15,15))\n",
    "near_data_gpd.plot(column = 'AMT_CORR',ax = ax,edgecolor = 'black',cmap = 'OrRd')"
   ]
  },
  {
   "cell_type": "code",
   "execution_count": null,
   "metadata": {},
   "outputs": [],
   "source": []
  }
 ],
 "metadata": {
  "kernelspec": {
   "display_name": "Python 3",
   "language": "python",
   "name": "python3"
  },
  "language_info": {
   "codemirror_mode": {
    "name": "ipython",
    "version": 3
   },
   "file_extension": ".py",
   "mimetype": "text/x-python",
   "name": "python",
   "nbconvert_exporter": "python",
   "pygments_lexer": "ipython3",
   "version": "3.6.5"
  },
  "toc": {
   "base_numbering": 1,
   "nav_menu": {},
   "number_sections": true,
   "sideBar": true,
   "skip_h1_title": false,
   "title_cell": "Table of Contents",
   "title_sidebar": "Contents",
   "toc_cell": false,
   "toc_position": {},
   "toc_section_display": true,
   "toc_window_display": false
  },
  "varInspector": {
   "cols": {
    "lenName": 16,
    "lenType": 16,
    "lenVar": 40
   },
   "kernels_config": {
    "python": {
     "delete_cmd_postfix": "",
     "delete_cmd_prefix": "del ",
     "library": "var_list.py",
     "varRefreshCmd": "print(var_dic_list())"
    },
    "r": {
     "delete_cmd_postfix": ") ",
     "delete_cmd_prefix": "rm(",
     "library": "var_list.r",
     "varRefreshCmd": "cat(var_dic_list()) "
    }
   },
   "types_to_exclude": [
    "module",
    "function",
    "builtin_function_or_method",
    "instance",
    "_Feature"
   ],
   "window_display": false
  }
 },
 "nbformat": 4,
 "nbformat_minor": 2
}
