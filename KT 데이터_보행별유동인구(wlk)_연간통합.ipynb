{
 "cells": [
  {
   "cell_type": "code",
   "execution_count": null,
   "metadata": {},
   "outputs": [],
   "source": [
    "import numpy as np\n",
    "import pandas as pd\n",
    "import matplotlib.pyplot as plt\n",
    "import seaborn as sns\n",
    "import folium \n",
    "import dask.dataframe as dd\n",
    "from dask.diagnostics import ProgressBar\n",
    "from glob import glob\n",
    "import os\n",
    "pbar = ProgressBar()\n",
    "pbar.register()\n",
    "\n",
    "from tqdm import tqdm_notebook as tqdm\n",
    "import geopandas as gpd\n",
    "from shapely.geometry import Point, Polygon\n",
    "\n",
    "#한글깨짐 방지\n",
    "plt.rc('font', family = 'Malgun Gothic')\n",
    "plt.rcParams['axes.unicode_minus'] = False"
   ]
  },
  {
   "cell_type": "code",
   "execution_count": null,
   "metadata": {},
   "outputs": [],
   "source": [
    "yearly_2016 = pd.read_csv('./data/KT 데이터/2016_wlk_통합(5179).csv')\n",
    "yearly_2017 = pd.read_csv('./data/KT 데이터/2017_wlk_통합(5179).csv')"
   ]
  },
  {
   "cell_type": "markdown",
   "metadata": {},
   "source": [
    "### 지역경계"
   ]
  },
  {
   "cell_type": "code",
   "execution_count": null,
   "metadata": {},
   "outputs": [],
   "source": [
    "#11개 구역 클러스터링 한 내역\n",
    "label_line = gpd.read_file('E:/python/data/신한카드데이터/라벨별_명칭_geo값.shp')"
   ]
  },
  {
   "cell_type": "code",
   "execution_count": null,
   "metadata": {},
   "outputs": [],
   "source": [
    "def near_park(df):\n",
    "    '''범위내 축소 \n",
    "    \n",
    "    '''\n",
    "    # 대공원주변 범위\n",
    "    ymin,ymax = 1949300, 1951100\n",
    "    xmin,xmax = 962000, 964100\n",
    "    \n",
    "    target = df[(df.new_X >= xmin)&(df.new_X <= xmax)]\n",
    "    target = target[(target.new_y >= ymin)&(target.new_y <= ymax)]\n",
    "    \n",
    "    #건대후문쪽 제외\n",
    "    gun_x, gun_y = 962760, 1949560\n",
    "    target = target[~((target.new_X <= gun_x)&((target.new_y <= gun_y)))]\n",
    "    \n",
    "    return target"
   ]
  },
  {
   "cell_type": "code",
   "execution_count": null,
   "metadata": {},
   "outputs": [],
   "source": [
    "n_2016 = near_park(yearly_2016)\n",
    "n_2017 = near_park(yearly_2017)"
   ]
  },
  {
   "cell_type": "markdown",
   "metadata": {},
   "source": [
    "### lable 추가"
   ]
  },
  {
   "cell_type": "code",
   "execution_count": null,
   "metadata": {},
   "outputs": [],
   "source": [
    "def add_label(df):\n",
    "    '''\n",
    "    라벨 추가\n",
    "    '''\n",
    "    #라벨딕셔너리 생성\n",
    "    label_dict = label_line.set_index('names')\n",
    "    del label_dict['labels']\n",
    "    label_dict = label_dict.to_dict()['geometry']\n",
    "    \n",
    "    # 중복제거하고 확인\n",
    "    origin_axis = df[['new_X','new_y']].drop_duplicates()\n",
    "    \n",
    "    #라벨링\n",
    "    label_names =[]\n",
    "    for i in range(0,len(origin_axis)):\n",
    "        label = np.nan\n",
    "        for key in label_dict:\n",
    "            check_point = Point(origin_axis['new_X'].iloc[i],origin_axis['new_y'].iloc[i])\n",
    "            if label_dict[key].contains(check_point):\n",
    "                label = key\n",
    "        label_names.append(label)  \n",
    "    origin_axis['label'] = label_names\n",
    "    \n",
    "    #매칭안되는 부분 제외(범위밖)\n",
    "    origin_axis = origin_axis[~origin_axis.label.isna()]\n",
    "\n",
    "    label_df = pd.merge(df, origin_axis, how = 'left', on = ['new_X','new_y'])\n",
    "    return label_df "
   ]
  },
  {
   "cell_type": "code",
   "execution_count": null,
   "metadata": {},
   "outputs": [],
   "source": [
    "n_2016_l = add_label(n_2016)\n",
    "n_2017_l = add_label(n_2017)"
   ]
  },
  {
   "cell_type": "markdown",
   "metadata": {},
   "source": [
    "### codebook"
   ]
  },
  {
   "cell_type": "code",
   "execution_count": null,
   "metadata": {},
   "outputs": [],
   "source": [
    "code_book = {}\n",
    "code_book['under_20'] = \"20세이하\"\n",
    "code_book['under_30'] = \"21~30세\"\n",
    "code_book['under_40'] = \"31~40세\"\n",
    "code_book['under_50'] = \"41~50세\"\n",
    "code_book['under_60'] = \"51~60세\"\n",
    "code_book['upper_60'] = \"61세이상\"\n",
    "code_book['t1'] = \"00시00~05시59\"\n",
    "code_book['t2'] = \"06시00~11시59\"\n",
    "code_book['t3'] = \"12시00~17시59\"\n",
    "code_book['t4'] = \"18시00~23시59\"\n",
    "code_book[\"1\"] = \"주말\"\n",
    "code_book[\"0\"] = \"주중\""
   ]
  },
  {
   "cell_type": "code",
   "execution_count": null,
   "metadata": {},
   "outputs": [],
   "source": [
    "def add_col(df):\n",
    "    #주말구분\n",
    "    df.loc[df.WEEK>5,'weekend'] = \"1\"\n",
    "    df.loc[df.WEEK<6,'weekend'] = \"0\"\n",
    "    \n",
    "    #시간대 구분\n",
    "    df.loc[(df.TIME<6),\"TIME_GAP\"] = 't1'\n",
    "    df.loc[(df.TIME>5)&(df.TIME<12),\"TIME_GAP\"] = 't2'\n",
    "    df.loc[(df.TIME>11)&(df.TIME<18),\"TIME_GAP\"] = 't3'\n",
    "    df.loc[(df.TIME>17),\"TIME_GAP\"] = 't4'\n",
    "    \n",
    "    #연령대별 구분\n",
    "    #남\n",
    "    df['M_under_20'] = df[['M0_4', 'M5_9', 'M10_14', 'M15_19']].sum(axis= 1)\n",
    "    df['M_under_30'] = df[['M20_24','M25_29']].sum(axis = 1)\n",
    "    df['M_under_40'] = df[['M30_34', 'M35_39']].sum(axis = 1)\n",
    "    df['M_under_50'] = df[['M40_44', 'M45_49']].sum(axis = 1)\n",
    "    df['M_under_60'] = df[['M50_54', 'M55_59']].sum(axis = 1)\n",
    "    df['M_upper_60'] = df[['M60_64', 'M65_69', 'M70_']].sum(axis = 1)\n",
    "\n",
    "    #여\n",
    "    df['F_under_20'] = df[['F0_4', 'F5_9', 'F10_14', 'F15_19']].sum(axis= 1)\n",
    "    df['F_under_30'] = df[['F20_24','F25_29']].sum(axis = 1)\n",
    "    df['F_under_40'] = df[['F30_34', 'F35_39']].sum(axis = 1)\n",
    "    df['F_under_50'] = df[['F40_44', 'F45_49']].sum(axis = 1)\n",
    "    df['F_under_60'] = df[['F50_54', 'F55_59']].sum(axis = 1)\n",
    "    df['F_upper_60'] = df[['F60_64', 'F65_69', 'F70_']].sum(axis = 1)\n",
    "\n",
    "    #종합\n",
    "    df['under_20'] = df['F_under_20'] + df['M_under_20']\n",
    "    df['under_30'] = df['F_under_30'] + df['M_under_30']\n",
    "    df['under_40'] = df['F_under_40'] + df['M_under_40']\n",
    "    df['under_50'] = df['F_under_50'] + df['M_under_50'] \n",
    "    df['under_60'] = df['F_under_60'] + df['M_under_60']\n",
    "    df['upper_60'] = df['F_upper_60'] + df['M_upper_60']\n",
    "    return df"
   ]
  },
  {
   "cell_type": "code",
   "execution_count": null,
   "metadata": {},
   "outputs": [],
   "source": [
    "n_2016_l = add_col(n_2016_l)\n",
    "n_2017_l = add_col(n_2017_l)"
   ]
  },
  {
   "cell_type": "markdown",
   "metadata": {},
   "source": [
    "### 클러스터별 그래프 "
   ]
  },
  {
   "cell_type": "code",
   "execution_count": null,
   "metadata": {},
   "outputs": [],
   "source": [
    "size_label = n_2017_l[['new_X','new_y','label']].drop_duplicates()\n",
    "size_label = size_label.label.value_counts().reset_index()\n",
    "size_label.columns = ['label','label_count']"
   ]
  },
  {
   "cell_type": "code",
   "execution_count": null,
   "metadata": {},
   "outputs": [],
   "source": [
    "#가장 기본그래프 \n",
    "def cluset_axis_basic(df):\n",
    "    year = df['YYYYMM'].astype(str)[0][:4]\n",
    "    sample = df.groupby(['YYYYMM','label'])['SUM'].sum().reset_index()\n",
    "    sample['MONTH'] = sample['YYYYMM'].astype(str).apply(lambda x: int(x[4:6]))\n",
    "    \n",
    "    sample = sample.merge(size_label)\n",
    "    sample['C_PER_SUM'] = sample['SUM']/sample['label_count']\n",
    "    \n",
    "    #클러스터별 전체 유동인구\n",
    "    plt.figure(figsize= (13,10))\n",
    "    sns.lineplot(x = 'MONTH',y = 'SUM', hue = 'label', palette = 'tab20', data = sample)\n",
    "    plt.legend(loc = 'center left', bbox_to_anchor = (1,0.5),fontsize = 15)\n",
    "    plt.title(f'{year}_주변상권의 전체 유동인구',fontsize= 15)\n",
    "    plt.yticks(fontsize = 15)\n",
    "    plt.xticks(fontsize = 15)\n",
    "    plt.tight_layout()\n",
    "    plt.savefig(f'./output/KT/{year}_주변상권의 전체 유동인구')\n",
    "    plt.close()\n",
    "    \n",
    "    #클러스터별 평균 유동인구(각 포인트 개수만큼 나눠줌)\n",
    "    plt.figure(figsize= (13,10))\n",
    "    sns.lineplot(x = 'MONTH',y = 'C_PER_SUM', hue = 'label', palette = 'tab20', data = sample)\n",
    "    plt.legend(loc = 'center left', bbox_to_anchor = (1,0.5),fontsize = 15)\n",
    "    plt.title(f'{year}_주변상권의 평균 유동인구',fontsize= 15)\n",
    "    plt.yticks(fontsize = 15)\n",
    "    plt.xticks(fontsize = 15)\n",
    "    plt.tight_layout()\n",
    "    plt.savefig(f'./output/KT/{year}_주변상권의 평균 유동인구')\n",
    "    plt.close()\n",
    "    \n",
    "    # 클러스터별 각 비율 csv\n",
    "    os.makedirs('./output/KT/비율/', exist_ok = True)\n",
    "    for c in ['SUM','C_PER_SUM']:\n",
    "        pivot_t = sample.pivot_table(index= 'YYYYMM',columns = 'label', values = c, \n",
    "                                     aggfunc = 'sum',margins= True)\n",
    "        result = pivot_t.apply(lambda x : (x/pivot_t['All']*100),axis=0)\n",
    "        result.to_csv(f'./output/KT/비율/{year}_{c}_rate.csv',encoding = 'cp949')\n",
    "    \n",
    "#     return sample"
   ]
  },
  {
   "cell_type": "code",
   "execution_count": null,
   "metadata": {},
   "outputs": [],
   "source": [
    "cluset_axis_basic(n_2016_l)\n",
    "cluset_axis_basic(n_2017_l)"
   ]
  },
  {
   "cell_type": "markdown",
   "metadata": {},
   "source": [
    "### 주중주말 월평균 유동인구 "
   ]
  },
  {
   "cell_type": "code",
   "execution_count": null,
   "metadata": {},
   "outputs": [],
   "source": [
    "def col_monthly_n(df,col):\n",
    "    '''\n",
    "    특정컬럼으로 묶어서 확인\n",
    "    '''\n",
    "    #저장위치\n",
    "    os.makedirs(f'./output/KT/{col}',exist_ok=True)\n",
    "    year = str(df['YYYYMM'].iloc[0])[:4]\n",
    "    \n",
    "    #그룹화\n",
    "    cols = ['new_X','new_y',col,'SUM']\n",
    "    sample = df[cols]\n",
    "    sample = (sample.groupby(['new_X','new_y',col])['SUM'].sum()/12).reset_index()\n",
    "    \n",
    "    for c in sample[col].unique():\n",
    "        sample_g = sample[sample[col] == c]\n",
    "        label_line.plot(color = 'w', edgecolor = 'black',figsize= (15,15))\n",
    "        m = plt.scatter(x = 'new_X', y= 'new_y', s = 150,\n",
    "                        marker= 's',alpha = 0.8,\n",
    "                    c= sample_g['SUM'],cmap = \"PuBu\", data= sample_g)\n",
    "        plt.colorbar(m)\n",
    "        plt.title(f'{code_book[c]}_월평균 유동인구',fontsize= 15)\n",
    "        plt.axis('off')\n",
    "        plt.savefig(f'./output/KT/{col}/{year}_{code_book[c]}_월평균 유동인구')\n",
    "        plt.close()\n",
    "    return sample"
   ]
  },
  {
   "cell_type": "code",
   "execution_count": null,
   "metadata": {
    "scrolled": false
   },
   "outputs": [],
   "source": [
    "col_monthly_n(n_2016,\"weekend\")\n",
    "col_monthly_n(n_2017,\"weekend\")"
   ]
  },
  {
   "cell_type": "code",
   "execution_count": null,
   "metadata": {},
   "outputs": [],
   "source": [
    "col_monthly_n(n_2016,\"TIME_GAP\")\n",
    "col_monthly_n(n_2017,\"TIME_GAP\")"
   ]
  },
  {
   "cell_type": "code",
   "execution_count": null,
   "metadata": {},
   "outputs": [],
   "source": [
    "def col_monthly_add(df,col,add_col):\n",
    "    '''\n",
    "    add_col 문자형\n",
    "    특정컬럼으로 묶어서 확인\n",
    "    '''\n",
    "    #저장위치\n",
    "    os.makedirs(f'./output/KT/{col}',exist_ok=True)\n",
    "    year = str(df['YYYYMM'].iloc[0])[:4]\n",
    "    \n",
    "    #그룹화\n",
    "    cols = ['new_X','new_y',col,'SUM']\n",
    "    cols.append(add_col)\n",
    "    sample = df[cols]\n",
    "    sample = (sample.groupby(['new_X','new_y',col,add_col])['SUM'].sum()/12).reset_index()\n",
    "    \n",
    "    for c in sample[col].unique():\n",
    "        for ac in sample[add_col].unique():\n",
    "            sample_g = sample[sample[col] == c]\n",
    "            sample_g = sample[sample[add_col] == ac]\n",
    "            label_line.plot(color = 'w', edgecolor = 'black',figsize= (15,15))\n",
    "            m = plt.scatter(x = 'new_X', y= 'new_y', s = 150,\n",
    "                            marker= 's',alpha = 0.8,\n",
    "                            c= sample_g['SUM'],cmap = \"PuBu\", data= sample_g)\n",
    "            plt.colorbar(m)\n",
    "            plt.title(f'{code_book[c]}_{code_book[ac]}_월평균 유동인구',fontsize= 15)\n",
    "            plt.axis('off')\n",
    "            plt.savefig(f'./output/KT/{year}_{code_book[c]}_{code_book[ac]}_월평균 유동인구')\n",
    "            plt.close()\n",
    "#     return sample"
   ]
  },
  {
   "cell_type": "code",
   "execution_count": null,
   "metadata": {},
   "outputs": [],
   "source": [
    "col_monthly_add(n_2016,\"weekend\",\"TIME_GAP\")\n",
    "col_monthly_add(n_2017,\"weekend\",\"TIME_GAP\")"
   ]
  },
  {
   "cell_type": "markdown",
   "metadata": {},
   "source": [
    "### 연령대별"
   ]
  },
  {
   "cell_type": "code",
   "execution_count": null,
   "metadata": {},
   "outputs": [],
   "source": [
    "#노멀\n",
    "def ageband_monthly_n(df):\n",
    "    '''\n",
    "    노멀하게 뽑는방법\n",
    "    '''\n",
    "    #저장위치\n",
    "    os.makedirs('./output/KT/',exist_ok=True)\n",
    "    year = str(df['YYYYMM'].iloc[0])[:4]\n",
    "    \n",
    "    n_df = df[['new_X', 'new_y','weekend', 'TIME_GAP','YYYYMM',\n",
    "        'under_20','under_30', 'under_40', 'under_50', 'under_60','upper_60']]\n",
    "\n",
    "    n_df_m = n_df.melt(id_vars = ['new_X','new_y','weekend', 'TIME_GAP','YYYYMM'],var_name = 'AGE_GAP')\n",
    "    \n",
    "    #그룹화\n",
    "    group_col = ['new_X','new_y','AGE_GAP']\n",
    "    sample = (n_df_m.groupby(group_col)['value'].sum()/12).reset_index()\n",
    "    \n",
    "    for gap in sample.AGE_GAP.unique():\n",
    "        sample_g = sample[sample['AGE_GAP'] == gap]\n",
    "        label_line.plot(color = 'w', edgecolor = 'black',figsize= (15,15))\n",
    "        m = plt.scatter(x = 'new_X', y= 'new_y', s = 150,\n",
    "                        marker= 's',alpha = 0.8,\n",
    "                        c = 'value',cmap = \"PuBu\", data= sample_g)\n",
    "        plt.colorbar(m)\n",
    "        plt.title(f'{code_book[gap]}__월평균 유동인구',fontsize= 15)\n",
    "        plt.axis('off')\n",
    "        plt.savefig(f'./output/KT/{year}_{code_book[gap]}_월평균 유동인구')       \n",
    "        plt.close()\n",
    "    "
   ]
  },
  {
   "cell_type": "code",
   "execution_count": null,
   "metadata": {},
   "outputs": [],
   "source": [
    "ageband_monthly_n(n_2016)\n",
    "ageband_monthly_n(n_2017)"
   ]
  },
  {
   "cell_type": "code",
   "execution_count": null,
   "metadata": {},
   "outputs": [],
   "source": [
    "#조합형\n",
    "def ageband_monthly(df, col):\n",
    "    \n",
    "    #저장위치\n",
    "    os.makedirs(f'./output/KT/{col}',exist_ok=True)\n",
    "    year = str(df['YYYYMM'].iloc[0])[:4]\n",
    "    \n",
    "    #연령대별 구분\n",
    "    #남\n",
    "    df['M_under_20'] = df[['M0_4', 'M5_9', 'M10_14', 'M15_19']].sum(axis= 1)\n",
    "    df['M_under_30'] = df[['M20_24','M25_29']].sum(axis = 1)\n",
    "    df['M_under_40'] = df[['M30_34', 'M35_39']].sum(axis = 1)\n",
    "    df['M_under_50'] = df[['M40_44', 'M45_49']].sum(axis = 1)\n",
    "    df['M_under_60'] = df[['M50_54', 'M55_59']].sum(axis = 1)\n",
    "    df['M_upper_60'] = df[['M60_64', 'M65_69', 'M70_']].sum(axis = 1)\n",
    "\n",
    "    #여\n",
    "    df['F_under_20'] = df[['F0_4', 'F5_9', 'F10_14', 'F15_19']].sum(axis= 1)\n",
    "    df['F_under_30'] = df[['F20_24','F25_29']].sum(axis = 1)\n",
    "    df['F_under_40'] = df[['F30_34', 'F35_39']].sum(axis = 1)\n",
    "    df['F_under_50'] = df[['F40_44', 'F45_49']].sum(axis = 1)\n",
    "    df['F_under_60'] = df[['F50_54', 'F55_59']].sum(axis = 1)\n",
    "    df['F_upper_60'] = df[['F60_64', 'F65_69', 'F70_']].sum(axis = 1)\n",
    "\n",
    "    #종합\n",
    "    df['under_20'] = df['F_under_20'] + df['M_under_20']\n",
    "    df['under_30'] = df['F_under_30'] + df['M_under_30']\n",
    "    df['under_40'] = df['F_under_40'] + df['M_under_40']\n",
    "    df['under_50'] = df['F_under_50'] + df['M_under_50'] \n",
    "    df['under_60'] = df['F_under_60'] + df['M_under_60']\n",
    "    df['upper_60'] = df['F_upper_60'] + df['M_upper_60']\n",
    "\n",
    "    n_df = df[['new_X', 'new_y','weekend', 'TIME_GAP','YYYYMM',\n",
    "        'under_20','under_30', 'under_40', 'under_50', 'under_60','upper_60']]\n",
    "\n",
    "    n_df_m = n_df.melt(id_vars = ['new_X','new_y','weekend', 'TIME_GAP','YYYYMM'],var_name = 'AGE_GAP')\n",
    "    \n",
    "    #그룹화\n",
    "    group_col = ['new_X','new_y','AGE_GAP',col]\n",
    "    sample = (n_df_m.groupby(group_col)['value'].sum()/12).reset_index()\n",
    "    \n",
    "    for gap in sample.AGE_GAP.unique():\n",
    "        for c in sample[col].unique():\n",
    "            sample_g = sample[sample['AGE_GAP'] == gap]\n",
    "            sample_g = sample_g[sample_g[col] == c]\n",
    "            label_line.plot(color = 'w', edgecolor = 'black',figsize= (15,15))\n",
    "            m = plt.scatter(x = 'new_X', y= 'new_y', s = 150,\n",
    "                            marker= 's',alpha = 0.8,\n",
    "                            c = 'value',cmap = \"PuBu\", data= sample_g)\n",
    "            plt.colorbar(m)\n",
    "            plt.title(f'{code_book[gap]}_{code_book[c]}_월평균 유동인구',fontsize= 15)\n",
    "            plt.axis('off')\n",
    "            plt.savefig(f'./output/KT/{col}/{year}_{code_book[gap]}_{code_book[c]}_월평균 유동인구')\n",
    "            plt.close()\n",
    "    "
   ]
  },
  {
   "cell_type": "code",
   "execution_count": null,
   "metadata": {},
   "outputs": [],
   "source": [
    "ageband_monthly(n_2016,'weekend')\n",
    "ageband_monthly(n_2017,'weekend')\n",
    "ageband_monthly(n_2016,'TIME_GAP')\n",
    "ageband_monthly(n_2017,'TIME_GAP')"
   ]
  },
  {
   "cell_type": "code",
   "execution_count": null,
   "metadata": {},
   "outputs": [],
   "source": []
  }
 ],
 "metadata": {
  "kernelspec": {
   "display_name": "Python 3",
   "language": "python",
   "name": "python3"
  },
  "language_info": {
   "codemirror_mode": {
    "name": "ipython",
    "version": 3
   },
   "file_extension": ".py",
   "mimetype": "text/x-python",
   "name": "python",
   "nbconvert_exporter": "python",
   "pygments_lexer": "ipython3",
   "version": "3.6.5"
  },
  "toc": {
   "base_numbering": 1,
   "nav_menu": {},
   "number_sections": true,
   "sideBar": true,
   "skip_h1_title": false,
   "title_cell": "Table of Contents",
   "title_sidebar": "Contents",
   "toc_cell": false,
   "toc_position": {},
   "toc_section_display": true,
   "toc_window_display": false
  },
  "varInspector": {
   "cols": {
    "lenName": 16,
    "lenType": 16,
    "lenVar": 40
   },
   "kernels_config": {
    "python": {
     "delete_cmd_postfix": "",
     "delete_cmd_prefix": "del ",
     "library": "var_list.py",
     "varRefreshCmd": "print(var_dic_list())"
    },
    "r": {
     "delete_cmd_postfix": ") ",
     "delete_cmd_prefix": "rm(",
     "library": "var_list.r",
     "varRefreshCmd": "cat(var_dic_list()) "
    }
   },
   "types_to_exclude": [
    "module",
    "function",
    "builtin_function_or_method",
    "instance",
    "_Feature"
   ],
   "window_display": false
  }
 },
 "nbformat": 4,
 "nbformat_minor": 2
}
