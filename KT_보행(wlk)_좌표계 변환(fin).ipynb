{
 "cells": [
  {
   "cell_type": "code",
   "execution_count": null,
   "metadata": {},
   "outputs": [],
   "source": [
    "import numpy as np\n",
    "import pandas as pd\n",
    "import matplotlib.pyplot as plt\n",
    "import seaborn as sns\n",
    "import folium \n",
    "import dask.dataframe as dd\n",
    "from dask.diagnostics import ProgressBar\n",
    "from glob import glob\n",
    "import os\n",
    "pbar = ProgressBar()\n",
    "pbar.register()\n",
    "\n",
    "from tqdm import tqdm_notebook as tqdm\n",
    "import geopandas as gpd"
   ]
  },
  {
   "cell_type": "markdown",
   "metadata": {},
   "source": [
    "### 좌표변환"
   ]
  },
  {
   "cell_type": "code",
   "execution_count": null,
   "metadata": {},
   "outputs": [],
   "source": [
    "from pyproj import Proj, transform\n",
    "proj_EPSG_5186 = Proj(init = 'epsg:5186')\n",
    "# proj_WGS84 = Proj(init = 'epsg:4326')\n",
    "proj_EPSG_5179 = Proj(init = 'epsg:5179')\n",
    "\n",
    "def transform_axis(df):\n",
    "    return pd.Series(transform(proj_EPSG_5186, proj_EPSG_5179,df['X_AXIS'],df['Y_AXIS']),index = ['X','Y'])\n"
   ]
  },
  {
   "cell_type": "markdown",
   "metadata": {},
   "source": [
    "### data 통합후 좌표변환"
   ]
  },
  {
   "cell_type": "code",
   "execution_count": null,
   "metadata": {},
   "outputs": [],
   "source": [
    "file_paths = glob('E:/python/data/KT 데이터/wlk/*.csv')\n",
    "\n",
    "yearly_2016 = pd.DataFrame()\n",
    "yearly_2017 = pd.DataFrame()\n",
    "for i in tqdm(range(len(file_paths))):\n",
    "    year = file_paths[i].split('_')[1][:4]\n",
    "    sample = pd.read_csv(file_paths[i])\n",
    "    if year == '2016':\n",
    "        yearly_2016 = pd.concat([yearly_2016,sample])\n",
    "    if year == '2017':\n",
    "        yearly_2017 = pd.concat([yearly_2017,sample])"
   ]
  },
  {
   "cell_type": "code",
   "execution_count": null,
   "metadata": {},
   "outputs": [],
   "source": [
    "axis_2016 = yearly_2016[['X_AXIS','Y_AXIS']].drop_duplicates()\n",
    "axis_2017 = yearly_2017[['X_AXIS','Y_AXIS']].drop_duplicates()"
   ]
  },
  {
   "cell_type": "code",
   "execution_count": null,
   "metadata": {},
   "outputs": [],
   "source": [
    "axis_all = pd.concat([axis_2016,axis_2017])\n",
    "axis_all = axis_all.drop_duplicates()"
   ]
  },
  {
   "cell_type": "code",
   "execution_count": null,
   "metadata": {},
   "outputs": [],
   "source": [
    "%%time\n",
    "#좌표변환\n",
    "axis_all[['new_X','new_y']] = axis_all.apply(transform_axis,axis=1)"
   ]
  },
  {
   "cell_type": "code",
   "execution_count": null,
   "metadata": {},
   "outputs": [],
   "source": [
    "nw_2016 = pd.merge(yearly_2016,axis_all,on = ['X_AXIS','Y_AXIS'], how = 'left')\n",
    "nw_2017 = pd.merge(yearly_2017,axis_all,on = ['X_AXIS','Y_AXIS'], how = 'left')"
   ]
  },
  {
   "cell_type": "code",
   "execution_count": null,
   "metadata": {},
   "outputs": [],
   "source": [
    "yearly_2016.shape, nw_2016.shape, yearly_2017.shape, nw_2017.shape"
   ]
  },
  {
   "cell_type": "code",
   "execution_count": null,
   "metadata": {},
   "outputs": [],
   "source": [
    "nw_2016.drop(['X_AXIS','Y_AXIS'],axis = 1, inplace = True)\n",
    "nw_2017.drop(['X_AXIS','Y_AXIS'],axis = 1, inplace = True)"
   ]
  },
  {
   "cell_type": "code",
   "execution_count": null,
   "metadata": {},
   "outputs": [],
   "source": [
    "nw_2016.to_csv('./data/KT 데이터/2016_wlk_통합(5179).csv',index= False)\n",
    "nw_2017.to_csv('./data/KT 데이터/2017_wlk_통합(5179).csv',index= False)"
   ]
  },
  {
   "cell_type": "code",
   "execution_count": null,
   "metadata": {},
   "outputs": [],
   "source": []
  }
 ],
 "metadata": {
  "kernelspec": {
   "display_name": "Python 3",
   "language": "python",
   "name": "python3"
  },
  "language_info": {
   "codemirror_mode": {
    "name": "ipython",
    "version": 3
   },
   "file_extension": ".py",
   "mimetype": "text/x-python",
   "name": "python",
   "nbconvert_exporter": "python",
   "pygments_lexer": "ipython3",
   "version": "3.6.5"
  },
  "toc": {
   "base_numbering": 1,
   "nav_menu": {},
   "number_sections": true,
   "sideBar": true,
   "skip_h1_title": false,
   "title_cell": "Table of Contents",
   "title_sidebar": "Contents",
   "toc_cell": false,
   "toc_position": {},
   "toc_section_display": true,
   "toc_window_display": false
  },
  "varInspector": {
   "cols": {
    "lenName": 16,
    "lenType": 16,
    "lenVar": 40
   },
   "kernels_config": {
    "python": {
     "delete_cmd_postfix": "",
     "delete_cmd_prefix": "del ",
     "library": "var_list.py",
     "varRefreshCmd": "print(var_dic_list())"
    },
    "r": {
     "delete_cmd_postfix": ") ",
     "delete_cmd_prefix": "rm(",
     "library": "var_list.r",
     "varRefreshCmd": "cat(var_dic_list()) "
    }
   },
   "types_to_exclude": [
    "module",
    "function",
    "builtin_function_or_method",
    "instance",
    "_Feature"
   ],
   "window_display": false
  }
 },
 "nbformat": 4,
 "nbformat_minor": 2
}
